{
 "cells": [
  {
   "cell_type": "markdown",
   "metadata": {},
   "source": [
    "# Project: AI Generated Images vs Real Images\n",
    "\n",
    "[source] (https://www.kaggle.com/datasets/cashbowman/ai-generated-images-vs-real-images)\n"
   ]
  }
 ],
 "metadata": {
  "language_info": {
   "name": "python"
  }
 },
 "nbformat": 4,
 "nbformat_minor": 2
}
